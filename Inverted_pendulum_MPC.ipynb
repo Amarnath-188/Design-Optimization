{
  "nbformat": 4,
  "nbformat_minor": 0,
  "metadata": {
    "colab": {
      "provenance": [],
      "authorship_tag": "ABX9TyNHKMH0UXG8CWPLTHmQaUmf",
      "include_colab_link": true
    },
    "kernelspec": {
      "name": "python3",
      "display_name": "Python 3"
    },
    "language_info": {
      "name": "python"
    }
  },
  "cells": [
    {
      "cell_type": "markdown",
      "metadata": {
        "id": "view-in-github",
        "colab_type": "text"
      },
      "source": [
        "<a href=\"https://colab.research.google.com/github/Amarnath-188/Design-Optimization/blob/Project-1/Inverted_pendulum_MPC.ipynb\" target=\"_parent\"><img src=\"https://colab.research.google.com/assets/colab-badge.svg\" alt=\"Open In Colab\"/></a>"
      ]
    },
    {
      "cell_type": "markdown",
      "source": [
        "\n",
        "# **Introduction**\n",
        "\n",
        "This inverted pendulum thing on a cart that can move back and forth. The challenge is to create a smart controller, using something called Model Predictive Control (MPC), to guide the cart. The goal is to make the cart go from a starting point at  y = -1.0  to  y = 0.0  in just 8 seconds. And, here's the catch – we want to double-check that the speed of the cart v , the tilt of the pendulum  $\\theta$, and this adjustable cart thing  q  are all at zero both before and after the move. This MPC thing is cool because it predicts how the system will behave and adjusts the controls accordingly. Basically, it's like teaching the system to do a dance to get from point A to point B without falling over, and we want it to nail the routine in under 6.2 seconds. Oh, and make sure everything's calm and at rest when it's done.\n",
        "\n",
        "\n",
        "# **Here's a breakdown of the key components:**\n",
        "\n",
        "1. **System Description**: The system consists of an inverted pendulum mounted on an adjustable cart. The cart can move horizontally along a track, and the objective is to control the motion of the cart in such a way that the pendulum remains stable in an upright position.\n",
        "\n",
        "2. **Controller Type**: Model Predictive Control (MPC) is the chosen control strategy. MPC is an advanced control technique that uses a dynamic model of the system to predict its future behavior and optimize control inputs over a finite time horizon.\n",
        "\n",
        "3. **Maneuver Requirements**: The cart needs to execute a sequence of moves that result in its position changing from  y = -1.0  to  y = 0.0 within 6.2 seconds. This implies the need for a carefully tuned control strategy that considers the dynamics of the system and the time constraints.\n",
        "\n",
        "4. **Parameter Verification**: Before and after the maneuver, it is essential to verify that certain parameters are zero. This includes the velocity of the cart  v , the angle of the pendulum $\\theta$, and the adjustable parameter for the cart q. Ensuring these parameters are zero ensures the stability and desired state of the system.\n",
        "\n",
        "5. **Time Constraint**: The maneuver must be completed within a specific time frame 8 seconds, adding a temporal aspect to the control problem.\n",
        "\n",
        "In summary, the problem involves designing a Model Predictive Controller to control the motion of an inverted pendulum system with an adjustable cart. The controller should be capable of executing a predefined sequence of moves to transition the cart from one position to another within a specified time, while ensuring the stability of the system by verifying key parameters before and after the maneuver.\n",
        "\n"
      ],
      "metadata": {
        "id": "mWSgySgp2yfv"
      }
    },
    {
      "cell_type": "markdown",
      "source": [
        "\n",
        "\n"
      ],
      "metadata": {
        "id": "CH2tppUZ5pC5"
      }
    },
    {
      "cell_type": "markdown",
      "source": [
        "$\\Lambda_{12}= \\frac{V2}{V1} e^{\\frac{-\\lambda_{12}}{R_g T}}$\n",
        "\n",
        "$\\Lambda_{21}= \\frac{V1}{V2} e^{\\frac{-\\lambda_{21}}{R_g T}}$\n",
        "\n",
        "$\\ln(\\gamma_1) = -\\ln(x_1 + \\Lambda_{12} x_2) + x_2(\\frac{\\Lambda_{12}}{x_1 + \\Lambda_{12} x_2}-\\frac{\\Lambda_{21}}{x_2 + \\Lambda_{21} x_1})$\n",
        "\n",
        "$\\ln(\\gamma_2) = -\\ln(x_2 + \\Lambda_{21} x_1) - x_1(\\frac{\\Lambda_{12}}{x_1 + \\Lambda_{12} x_2}-\\frac{\\Lambda_{21}}{x_2 + \\Lambda_{21} x_1})$\n"
      ],
      "metadata": {
        "id": "iNfp0l94-wHK"
      }
    },
    {
      "cell_type": "markdown",
      "source": [
        "Correlations for the vapor pressure $P_1^{sat}$ and density (rho) of numerous commonly encountered pure components can be found in BYU's DIPPR database. In this situation, $P_1^{sat}$ varies with temperature in accordance with a specified function.\n",
        "\n",
        "$P_{sat} = e^{(A_o + \\frac{B_o}{T}+ C_o \\ln(T)+D_o T^{E_o})}$\n",
        "\n",
        "$\\rho = \\frac{A}{(1+1-{\\frac{T}{C}})}$\n",
        "\n",
        "$v = 1/\\rho$\n",
        "\n",
        "$\\rho$ and $v$ is also a function of Temperature"
      ],
      "metadata": {
        "id": "YHGx91xyAgVm"
      }
    },
    {
      "cell_type": "markdown",
      "source": [
        "The formula for determining the degrees of freedom (DOF) in a system involving multiple components and phases is expressed as DOF = 2 + #Components - #Phases. Here, the system consists of two phases (liquid and vapor) and two components (ethanol and cyclohexane), resulting in two degrees of freedom that require specification. In this scenario, a choice must be made to constrain two out of the four measured values for the system, involving x1, y1, P, or T. It is advisable to constrain the values of x1 and P, as demonstrated in the tutorial below."
      ],
      "metadata": {
        "id": "VwJ-BrBTCQHc"
      }
    },
    {
      "cell_type": "code",
      "source": [
        "pip install gekko"
      ],
      "metadata": {
        "colab": {
          "base_uri": "https://localhost:8080/"
        },
        "id": "eb7cwTkIF3x7",
        "outputId": "5844da47-bb43-45f6-cf63-e519a87ce880"
      },
      "execution_count": null,
      "outputs": [
        {
          "output_type": "stream",
          "name": "stdout",
          "text": [
            "Collecting gekko\n",
            "  Downloading gekko-1.0.6-py3-none-any.whl (12.2 MB)\n",
            "\u001b[2K     \u001b[90m━━━━━━━━━━━━━━━━━━━━━━━━━━━━━━━━━━━━━━━━\u001b[0m \u001b[32m12.2/12.2 MB\u001b[0m \u001b[31m85.9 MB/s\u001b[0m eta \u001b[36m0:00:00\u001b[0m\n",
            "\u001b[?25hRequirement already satisfied: numpy>=1.8 in /usr/local/lib/python3.10/dist-packages (from gekko) (1.23.5)\n",
            "Installing collected packages: gekko\n",
            "Successfully installed gekko-1.0.6\n"
          ]
        }
      ]
    },
    {
      "cell_type": "code",
      "source": [
        "# importing libraries\n",
        "from gekko import GEKKO\n",
        "from scipy.optimize import fsolve\n",
        "from scipy.optimize import curve_fit\n",
        "from scipy.interpolate import interp1d\n",
        "import numpy as np\n",
        "import pandas as pd\n",
        "import matplotlib.pyplot as plt"
      ],
      "metadata": {
        "id": "G1kw4zHhF-pd"
      },
      "execution_count": null,
      "outputs": []
    },
    {
      "cell_type": "code",
      "source": [
        "#Molar gas constant\n",
        "R = 1.9858775  # cal/mol K\n",
        "\n",
        "def vaporP(T: float, compound: list):\n",
        "    '''\n",
        "    T              ---> temp K\n",
        "    param compound ---> vapor pressure\n",
        "    return         ---> Vapor Pressure in Pa\n",
        "    '''\n",
        "    VP = np.exp(compound[0] + compound[1]/T + compound[2]*np.log(T) + compound[3]*T**compound[4])\n",
        "    return VP"
      ],
      "metadata": {
        "id": "4gCWoPYaGHQB"
      },
      "execution_count": null,
      "outputs": []
    },
    {
      "cell_type": "code",
      "source": [
        "def liquidMolarVolume(T: float, mvolume: list):\n",
        "    '''\n",
        "    T               ---> temp in K\n",
        "    mvolume         ---> component liquid molar volume\n",
        "    return          ---> liquid molar volume\n",
        "    '''\n",
        "    L_mol_volume = 1 / mvolume[0] * mvolume[1] ** (1 + (1 - T / mvolume[2]) ** mvolume[3])\n",
        "    return L_mol_volume"
      ],
      "metadata": {
        "id": "fcIHyCfZGzpf"
      },
      "execution_count": null,
      "outputs": []
    },
    {
      "cell_type": "code",
      "source": [
        "def Lij(aij: float, T: float, Vlvali: float,\\\n",
        "            Vlvalj: float):\n",
        "    '''\n",
        "    # Vl1 = liquidMolarVolume(T, Vlvali)\n",
        "    # Vl2 = liquidMolarVolume(T, Vlvalj)\n",
        "    '''\n",
        "    Vl1 = Vlvali\n",
        "    Vl2 = Vlvalj\n",
        "    V = Vl2 / Vl1 * np.exp(-aij / (R * T))\n",
        "    return V"
      ],
      "metadata": {
        "id": "Uqt7Y4NIG2fC"
      },
      "execution_count": null,
      "outputs": []
    },
    {
      "cell_type": "code",
      "source": [
        "def Gamma(a12: float, a21: float, x1: float,\\\n",
        "          Temp: float, Compound: int):\n",
        "\n",
        "\n",
        "  '''\n",
        "  Compound 1: Ethanol\n",
        "  Compound 2: Cyclohexane\n",
        "  Liquid molar volume\n",
        "  yi * P =  γi * xi * Pisat\n",
        "  '''\n",
        "\n",
        "  Vethanol_mvol = 0.058492\n",
        "  VCyclochexane_mvol = 0.10882\n",
        "\n",
        "  x2 = 1.0 - x1\n",
        "  L12 = Lij(a12, Temp, Vethanol_mvol, VCyclochexane_mvol)\n",
        "  L21 = Lij(a21, Temp,  VCyclochexane_mvol, Vethanol_mvol)\n",
        "  L11 = 1.0\n",
        "  L22 = L11\n",
        "\n",
        "  if Compound == 1:\n",
        "      A = (x2 * L12)+x1\n",
        "      B = x1 * L11 / (x1 * L11 + x2 * L12) \\\n",
        "           +x2 * L21 / (x1 * L21 + x2 * L22)\n",
        "\n",
        "  elif Compound == 2:\n",
        "\n",
        "      A = (x1 * L21)+x2\n",
        "      B = x2 * L22 / (x2 * L22 + x1 * L21) \\\n",
        "         +x1 * L12 / (x2 * L12 + x1 * L11)\n",
        "\n",
        "  C = np.exp(1.0-np.log(A)-B)\n",
        "\n",
        "  return C"
      ],
      "metadata": {
        "id": "a6HUlO-eG8ZZ"
      },
      "execution_count": null,
      "outputs": []
    }
  ]
}