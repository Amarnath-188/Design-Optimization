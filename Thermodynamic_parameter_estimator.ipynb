{
  "nbformat": 4,
  "nbformat_minor": 0,
  "metadata": {
    "colab": {
      "provenance": [],
      "authorship_tag": "ABX9TyMKN2Wr9g31HzFTEJesy4Zu",
      "include_colab_link": true
    },
    "kernelspec": {
      "name": "python3",
      "display_name": "Python 3"
    },
    "language_info": {
      "name": "python"
    }
  },
  "cells": [
    {
      "cell_type": "markdown",
      "metadata": {
        "id": "view-in-github",
        "colab_type": "text"
      },
      "source": [
        "<a href=\"https://colab.research.google.com/github/Amarnath-188/Design-Optimization/blob/Project-1/Thermodynamic_parameter_estimator.ipynb\" target=\"_parent\"><img src=\"https://colab.research.google.com/assets/colab-badge.svg\" alt=\"Open In Colab\"/></a>"
      ]
    },
    {
      "cell_type": "markdown",
      "source": [
        "\n",
        "# **Introduction**\n",
        "\n",
        "\n",
        "\n",
        "The Wilson activity coefficient model is a semi-empirical model used to describe the non-ideal behavior of liquid mixtures. It is based on the assumption that the excess Gibbs free energy of mixing is due to the different sizes and interactions of the molecules in the mixture. The Wilson model has been shown to be accurate for a wide range of mixtures, including ethanol-cyclohexane.\n",
        "\n",
        "# **Ebulliometer**\n",
        "\n",
        "\n",
        "An ebulliometer is a laboratory instrument used to measure the boiling point of a liquid. It works by heating a liquid until it boils, and then measuring the temperature of the vapor. The boiling point of a liquid is related to its vapor pressure, which is a measure of the tendency of the liquid to evaporate.\n",
        "\n",
        "#**Vapor Liquid Equilibrium (VLE)**\n",
        "\n",
        "VLE is a state of equilibrium in which a liquid and its vapor are present at the same temperature and pressure.\n",
        "\n",
        "#**Determining VLE Parameters from Ebulliometer Data**\n",
        "\n",
        "The following steps can be used to determine the VLE parameters for an ethanol-cyclohexane mixture from ebulliometer data:\n",
        "\n",
        "\n",
        "\n",
        "1.   Measure the boiling point of a series of ethanol-cyclohexane mixtures with different compositions.\n",
        "2.   Use the measured boiling points to calculate the vapor pressures of the mixtures.\n",
        "3. Use the Wilson activity coefficient model to relate the vapor pressures to the mole fractions of ethanol and cyclohexane in the liquid phase.\n",
        "4. Fit the Wilson activity coefficient model to the experimental data to determine the values of the model parameters.\n",
        "\n",
        "\n",
        "#**Azeotrope**\n",
        "\n",
        "An azeotrope is a mixture of two or more liquids that has a constant boiling point over a range of compositions. In other words, the composition of the vapor phase is the same as the composition of the liquid phase. Azeotropes are important in industrial processes, such as distillation.\n",
        "\n",
        "**Activity Coefficients at Infinitely Dilute Compositions**\n",
        "\n",
        "The activity coefficient of a component at its infinitely dilute composition is defined as the ratio of the fugacity of the component in the mixture to the fugacity of the pure component at the same temperature and pressure. The fugacity is a measure of the escaping tendency of a component from a mixture."
      ],
      "metadata": {
        "id": "mWSgySgp2yfv"
      }
    },
    {
      "cell_type": "markdown",
      "source": [
        "The liquid and vapor compositions of this binary mixture are related by the following thermodynamic relationships\n",
        "\n",
        "$y_1 .P = x_1 \\gamma_1 P_1^{sat}$\n",
        "\n",
        "\n",
        "$y_2 .P = x_2 \\gamma_2 P_2^{sat}$\n",
        "\n",
        "In the context of the Wilson equation, y1 represents the vapor mole fraction, P denotes the pressure, x1 is the liquid mole fraction, gamma1 represents the activity coefficient, which deviates from 1.0 in non-ideal mixtures, and P1sat is the vapor pressure of the pure component. This equation is equally applicable to component 2 in the mixture, with a corresponding equation denoted by subscript 2.\n",
        "\n",
        "The Wilson equation is employed to forecast the activity coefficients, gamma1 and gamma2, across various liquid compositions.\n",
        "\n",
        "\n"
      ],
      "metadata": {
        "id": "CH2tppUZ5pC5"
      }
    },
    {
      "cell_type": "markdown",
      "source": [
        "$\\Lambda_{12}= \\frac{V2}{V1} e^{\\frac{-\\lambda_{12}}{R_g T}}$\n",
        "\n",
        "$\\Lambda_{21}= \\frac{V1}{V2} e^{\\frac{-\\lambda_{21}}{R_g T}}$\n",
        "\n",
        "$\\ln(\\gamma_1) = -\\ln(x_1 + \\Lambda_{12} x_2) + x_2(\\frac{\\Lambda_{12}}{x_1 + \\Lambda_{12} x_2}-\\frac{\\Lambda_{21}}{x_2 + \\Lambda_{21} x_1})$\n",
        "\n",
        "$\\ln(\\gamma_2) = -\\ln(x_2 + \\Lambda_{21} x_1) - x_1(\\frac{\\Lambda_{12}}{x_1 + \\Lambda_{12} x_2}-\\frac{\\Lambda_{21}}{x_2 + \\Lambda_{21} x_1})$\n"
      ],
      "metadata": {
        "id": "iNfp0l94-wHK"
      }
    },
    {
      "cell_type": "markdown",
      "source": [
        "Correlations for the vapor pressure $P_1^{sat}$ and density (rho) of numerous commonly encountered pure components can be found in BYU's DIPPR database. In this situation, $P_1^{sat}$ varies with temperature in accordance with a specified function.\n",
        "\n",
        "$P_{sat} = e^{(A_o + \\frac{B_o}{T}+ C_o \\ln(T)+D_o T^{E_o})}$\n",
        "\n",
        "$\\rho = \\frac{A}{(1+1-{\\frac{T}{C}})}$\n",
        "\n",
        "$v = 1/\\rho$\n",
        "\n",
        "$\\rho$ and $v$ is also a function of Temperature"
      ],
      "metadata": {
        "id": "YHGx91xyAgVm"
      }
    },
    {
      "cell_type": "markdown",
      "source": [
        "The formula for determining the degrees of freedom (DOF) in a system involving multiple components and phases is expressed as DOF = 2 + #Components - #Phases. Here, the system consists of two phases (liquid and vapor) and two components (ethanol and cyclohexane), resulting in two degrees of freedom that require specification. In this scenario, a choice must be made to constrain two out of the four measured values for the system, involving x1, y1, P, or T. It is advisable to constrain the values of x1 and P, as demonstrated in the tutorial below."
      ],
      "metadata": {
        "id": "VwJ-BrBTCQHc"
      }
    },
    {
      "cell_type": "code",
      "source": [
        "pip install gekko"
      ],
      "metadata": {
        "colab": {
          "base_uri": "https://localhost:8080/"
        },
        "id": "eb7cwTkIF3x7",
        "outputId": "5844da47-bb43-45f6-cf63-e519a87ce880"
      },
      "execution_count": 1,
      "outputs": [
        {
          "output_type": "stream",
          "name": "stdout",
          "text": [
            "Collecting gekko\n",
            "  Downloading gekko-1.0.6-py3-none-any.whl (12.2 MB)\n",
            "\u001b[2K     \u001b[90m━━━━━━━━━━━━━━━━━━━━━━━━━━━━━━━━━━━━━━━━\u001b[0m \u001b[32m12.2/12.2 MB\u001b[0m \u001b[31m85.9 MB/s\u001b[0m eta \u001b[36m0:00:00\u001b[0m\n",
            "\u001b[?25hRequirement already satisfied: numpy>=1.8 in /usr/local/lib/python3.10/dist-packages (from gekko) (1.23.5)\n",
            "Installing collected packages: gekko\n",
            "Successfully installed gekko-1.0.6\n"
          ]
        }
      ]
    },
    {
      "cell_type": "code",
      "source": [
        "# importing libraries\n",
        "from gekko import GEKKO\n",
        "from scipy.optimize import fsolve\n",
        "from scipy.optimize import curve_fit\n",
        "from scipy.interpolate import interp1d\n",
        "import numpy as np\n",
        "import pandas as pd\n",
        "import matplotlib.pyplot as plt"
      ],
      "metadata": {
        "id": "G1kw4zHhF-pd"
      },
      "execution_count": 2,
      "outputs": []
    },
    {
      "cell_type": "code",
      "source": [
        "#Molar gas constant\n",
        "R = 1.9858775  # cal/mol K\n",
        "\n",
        "def vaporP(T: float, compound: list):\n",
        "    '''\n",
        "    T              ---> temp K\n",
        "    param compound ---> vapor pressure\n",
        "    return         ---> Vapor Pressure in Pa\n",
        "    '''\n",
        "    VP = np.exp(compound[0] + compound[1]/T + compound[2]*np.log(T) + compound[3]*T**compound[4])\n",
        "    return VP"
      ],
      "metadata": {
        "id": "4gCWoPYaGHQB"
      },
      "execution_count": 18,
      "outputs": []
    },
    {
      "cell_type": "code",
      "source": [
        "def liquidMolarVolume(T: float, mvolume: list):\n",
        "    '''\n",
        "    T               ---> temp in K\n",
        "    mvolume         ---> component liquid molar volume\n",
        "    return          ---> liquid molar volume\n",
        "    '''\n",
        "    L_mol_volume = 1 / mvolume[0] * mvolume[1] ** (1 + (1 - T / mvolume[2]) ** mvolume[3])\n",
        "    return L_mol_volume"
      ],
      "metadata": {
        "id": "fcIHyCfZGzpf"
      },
      "execution_count": 19,
      "outputs": []
    },
    {
      "cell_type": "code",
      "source": [
        "def Lij(aij: float, T: float, Vlvali: float,\\\n",
        "            Vlvalj: float):\n",
        "    '''\n",
        "    # Vl1 = liquidMolarVolume(T, Vlvali)\n",
        "    # Vl2 = liquidMolarVolume(T, Vlvalj)\n",
        "    '''\n",
        "    Vl1 = Vlvali\n",
        "    Vl2 = Vlvalj\n",
        "    V = Vl2 / Vl1 * np.exp(-aij / (R * T))\n",
        "    return V"
      ],
      "metadata": {
        "id": "Uqt7Y4NIG2fC"
      },
      "execution_count": 25,
      "outputs": []
    },
    {
      "cell_type": "code",
      "source": [
        "def Gamma(a12: float, a21: float, x1: float,\\\n",
        "          Temp: float, Compound: int):\n",
        "\n",
        "\n",
        "  '''\n",
        "  Compound 1: Ethanol\n",
        "  Compound 2: Cyclohexane\n",
        "  Liquid molar volume\n",
        "  yi * P =  γi * xi * Pisat\n",
        "  '''\n",
        "\n",
        "  Vethanol_mvol = 0.058492\n",
        "  VCyclochexane_mvol = 0.10882\n",
        "\n",
        "  x2 = 1.0 - x1\n",
        "  L12 = Lij(a12, Temp, Vethanol_mvol, VCyclochexane_mvol)\n",
        "  L21 = Lij(a21, Temp,  VCyclochexane_mvol, Vethanol_mvol)\n",
        "  L11 = 1.0\n",
        "  L22 = L11\n",
        "\n",
        "  if Compound == 1:\n",
        "      A = (x2 * L12)+x1\n",
        "      B = x1 * L11 / (x1 * L11 + x2 * L12) \\\n",
        "           +x2 * L21 / (x1 * L21 + x2 * L22)\n",
        "\n",
        "  elif Compound == 2:\n",
        "\n",
        "      A = (x1 * L21)+x2\n",
        "      B = x2 * L22 / (x2 * L22 + x1 * L21) \\\n",
        "         +x1 * L12 / (x2 * L12 + x1 * L11)\n",
        "\n",
        "  C = np.exp(1.0-np.log(A)-B)\n",
        "\n",
        "  return C"
      ],
      "metadata": {
        "id": "a6HUlO-eG8ZZ"
      },
      "execution_count": 28,
      "outputs": []
    }
  ]
}